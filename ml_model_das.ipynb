{
 "cells": [
  {
   "cell_type": "code",
   "execution_count": null,
   "id": "3193817b",
   "metadata": {
    "scrolled": false
   },
   "outputs": [],
   "source": [
    "import numpy as np\n",
    "import pandas as pd\n",
    "\n",
    "df = pd.read_csv(r'C:\\Users\\Dell\\Documents\\dsaiProject\\data.csv',sep='\\t')\n",
    "df.info()"
   ]
  },
  {
   "cell_type": "code",
   "execution_count": 4,
   "id": "b62b1cd3",
   "metadata": {},
   "outputs": [],
   "source": [
    "DASS_keys = {\n",
    "    'Depression': [3, 5, 10, 13, 16, 17, 21, 24, 26, 31, 34, 37, 38, 42],\n",
    "    'Anxiety': [2, 4, 7, 9, 15, 19, 20, 23, 25, 28, 30, 36, 40, 41],\n",
    "    'Stress': [1, 6, 8, 11, 12, 14, 18, 22, 27, 29, 32, 33, 35, 39]\n",
    "    }"
   ]
  },
  {
   "cell_type": "code",
   "execution_count": null,
   "id": "2e9146c4",
   "metadata": {},
   "outputs": [],
   "source": [
    "df['wrongansw'] = 0 \n",
    "# This line creates a new column in the DataFrame called 'wrongansw' and initializes it to zero for all rows.\n",
    "\n",
    "df.wrongansw.value_counts()"
   ]
  },
  {
   "cell_type": "code",
   "execution_count": 4,
   "id": "7b7ca131",
   "metadata": {},
   "outputs": [
    {
     "data": {
      "text/plain": [
       "0    38177\n",
       "1     1598\n",
       "Name: wrongansw, dtype: int64"
      ]
     },
     "execution_count": 4,
     "metadata": {},
     "output_type": "execute_result"
    }
   ],
   "source": [
    "df['wrongansw'] = 0\n",
    "df['wrongansw'] = df['wrongansw'].where(df['VCL6']== 0, df['wrongansw'] + 1)\n",
    "\n",
    "# This line updates the 'wrongansw' column based on a condition. \n",
    "# It uses the where method of the DataFrame to apply a condition where df['VCL6'] equals 0. \n",
    "# If the condition is true, then the 'wrongansw' column remains unchanged. \n",
    "# If the condition is false, then the 'wrongansw' column is incremented by 1.\n",
    "\n",
    "df.wrongansw.value_counts()"
   ]
  },
  {
   "cell_type": "code",
   "execution_count": 5,
   "id": "fd0f4659",
   "metadata": {},
   "outputs": [
    {
     "data": {
      "text/plain": [
       "0    36913\n",
       "1     2410\n",
       "2      452\n",
       "Name: wrongansw, dtype: int64"
      ]
     },
     "execution_count": 5,
     "metadata": {},
     "output_type": "execute_result"
    }
   ],
   "source": [
    "df['wrongansw'] = 0\n",
    "df['wrongansw'] = df['wrongansw'].where(df['VCL6']== 0, df['wrongansw'] + 1)\n",
    "df['wrongansw'] = df['wrongansw'].where(df['VCL9']== 0, df['wrongansw'] + 1)\n",
    "\n",
    "df.wrongansw.value_counts()"
   ]
  },
  {
   "cell_type": "code",
   "execution_count": 6,
   "id": "adcd0048",
   "metadata": {},
   "outputs": [
    {
     "data": {
      "text/plain": [
       "0    34583\n",
       "1     4044\n",
       "2      822\n",
       "3      326\n",
       "Name: wrongansw, dtype: int64"
      ]
     },
     "execution_count": 6,
     "metadata": {},
     "output_type": "execute_result"
    }
   ],
   "source": [
    "df['wrongansw'] = 0\n",
    "df['wrongansw'] = df['wrongansw'].where(df['VCL6']== 0, df['wrongansw'] + 1)\n",
    "df['wrongansw'] = df['wrongansw'].where(df['VCL9']== 0, df['wrongansw'] + 1)\n",
    "df['wrongansw'] = df['wrongansw'].where(df['VCL12']== 0, df['wrongansw'] + 1)\n",
    "\n",
    "df.wrongansw.value_counts()"
   ]
  },
  {
   "cell_type": "code",
   "execution_count": 7,
   "id": "dc8ce278",
   "metadata": {},
   "outputs": [
    {
     "data": {
      "text/plain": [
       "(1148, 172)"
      ]
     },
     "execution_count": 7,
     "metadata": {},
     "output_type": "execute_result"
    }
   ],
   "source": [
    "# Steps for data cleaning; VCL6, VCL9, VCL12 are not real words, used for validity check.\n",
    "df = df[df['wrongansw'].isin([2, 3])]\n",
    "df = df.drop(columns='wrongansw')\n",
    "df.head(3)\n",
    "df.shape"
   ]
  },
  {
   "cell_type": "code",
   "execution_count": 8,
   "id": "4f1d15db",
   "metadata": {},
   "outputs": [
    {
     "data": {
      "text/plain": [
       "(1148, 156)"
      ]
     },
     "execution_count": 8,
     "metadata": {},
     "output_type": "execute_result"
    }
   ],
   "source": [
    "# removing the validity check columns\n",
    "vcls = []\n",
    "for i in range(1, 17):\n",
    "    vcls.append('VCL' + str(i))\n",
    "    \n",
    "df = df.drop(columns=vcls)\n",
    "df.shape"
   ]
  },
  {
   "cell_type": "code",
   "execution_count": 9,
   "id": "e741d7d7",
   "metadata": {},
   "outputs": [],
   "source": [
    "depr = []\n",
    "for i in DASS_keys[\"Depression\"]:\n",
    "    depr.append('Q' + str(i) + 'A')\n",
    "    \n",
    "anx = []\n",
    "for i in DASS_keys[\"Anxiety\"]:\n",
    "    anx.append('Q' + str(i) + 'A')\n",
    "\n",
    "stre = []\n",
    "for i in DASS_keys[\"Stress\"]:\n",
    "    stre.append('Q' + str(i) + 'A')\n",
    "\n",
    "# making a new dataframe for each disorder \n",
    "\n",
    "df_depr=df.filter(depr) \n",
    "df_anx=df.filter(anx)\n",
    "df_stre=df.filter(stre)"
   ]
  },
  {
   "cell_type": "code",
   "execution_count": 10,
   "id": "95837b9d",
   "metadata": {},
   "outputs": [
    {
     "name": "stdout",
     "output_type": "stream",
     "text": [
      "Categorical Columns:  Index(['country', 'major'], dtype='object')\n",
      "country     68\n",
      "major      366\n",
      "dtype: int64\n"
     ]
    }
   ],
   "source": [
    "categorical = df.select_dtypes('object').columns\n",
    "\n",
    "print('Categorical Columns: ', df[categorical].columns)\n",
    "print(df[categorical].nunique())\n",
    "\n",
    "# remove 'major' column\n",
    "df = df.drop(['major'], axis=1)"
   ]
  },
  {
   "cell_type": "code",
   "execution_count": 11,
   "id": "33d0eea9",
   "metadata": {},
   "outputs": [
    {
     "data": {
      "text/html": [
       "<div>\n",
       "<style scoped>\n",
       "    .dataframe tbody tr th:only-of-type {\n",
       "        vertical-align: middle;\n",
       "    }\n",
       "\n",
       "    .dataframe tbody tr th {\n",
       "        vertical-align: top;\n",
       "    }\n",
       "\n",
       "    .dataframe thead th {\n",
       "        text-align: right;\n",
       "    }\n",
       "</style>\n",
       "<table border=\"1\" class=\"dataframe\">\n",
       "  <thead>\n",
       "    <tr style=\"text-align: right;\">\n",
       "      <th></th>\n",
       "      <th>Q1A</th>\n",
       "      <th>Q1I</th>\n",
       "      <th>Q1E</th>\n",
       "      <th>Q2A</th>\n",
       "      <th>Q2I</th>\n",
       "      <th>Q2E</th>\n",
       "      <th>Q3A</th>\n",
       "      <th>Q3I</th>\n",
       "      <th>Q3E</th>\n",
       "      <th>Q4A</th>\n",
       "      <th>...</th>\n",
       "      <th>hand</th>\n",
       "      <th>religion</th>\n",
       "      <th>orientation</th>\n",
       "      <th>race</th>\n",
       "      <th>voted</th>\n",
       "      <th>married</th>\n",
       "      <th>familysize</th>\n",
       "      <th>ScoresDepr</th>\n",
       "      <th>ScoresAnx</th>\n",
       "      <th>ScoresStre</th>\n",
       "    </tr>\n",
       "  </thead>\n",
       "  <tbody>\n",
       "    <tr>\n",
       "      <th>26</th>\n",
       "      <td>3</td>\n",
       "      <td>1</td>\n",
       "      <td>4820</td>\n",
       "      <td>3</td>\n",
       "      <td>39</td>\n",
       "      <td>1109</td>\n",
       "      <td>3</td>\n",
       "      <td>8</td>\n",
       "      <td>1833</td>\n",
       "      <td>3</td>\n",
       "      <td>...</td>\n",
       "      <td>1</td>\n",
       "      <td>7</td>\n",
       "      <td>1</td>\n",
       "      <td>60</td>\n",
       "      <td>2</td>\n",
       "      <td>1</td>\n",
       "      <td>3</td>\n",
       "      <td>38</td>\n",
       "      <td>41</td>\n",
       "      <td>41</td>\n",
       "    </tr>\n",
       "    <tr>\n",
       "      <th>31</th>\n",
       "      <td>1</td>\n",
       "      <td>25</td>\n",
       "      <td>3671</td>\n",
       "      <td>1</td>\n",
       "      <td>26</td>\n",
       "      <td>5743</td>\n",
       "      <td>1</td>\n",
       "      <td>13</td>\n",
       "      <td>3154</td>\n",
       "      <td>0</td>\n",
       "      <td>...</td>\n",
       "      <td>1</td>\n",
       "      <td>2</td>\n",
       "      <td>1</td>\n",
       "      <td>60</td>\n",
       "      <td>2</td>\n",
       "      <td>1</td>\n",
       "      <td>3</td>\n",
       "      <td>30</td>\n",
       "      <td>8</td>\n",
       "      <td>7</td>\n",
       "    </tr>\n",
       "    <tr>\n",
       "      <th>57</th>\n",
       "      <td>1</td>\n",
       "      <td>27</td>\n",
       "      <td>3827</td>\n",
       "      <td>2</td>\n",
       "      <td>33</td>\n",
       "      <td>6293</td>\n",
       "      <td>1</td>\n",
       "      <td>22</td>\n",
       "      <td>12153</td>\n",
       "      <td>2</td>\n",
       "      <td>...</td>\n",
       "      <td>1</td>\n",
       "      <td>1</td>\n",
       "      <td>1</td>\n",
       "      <td>60</td>\n",
       "      <td>1</td>\n",
       "      <td>1</td>\n",
       "      <td>2</td>\n",
       "      <td>13</td>\n",
       "      <td>15</td>\n",
       "      <td>20</td>\n",
       "    </tr>\n",
       "  </tbody>\n",
       "</table>\n",
       "<p>3 rows × 158 columns</p>\n",
       "</div>"
      ],
      "text/plain": [
       "    Q1A  Q1I   Q1E  Q2A  Q2I   Q2E  Q3A  Q3I    Q3E  Q4A  ...  hand  religion  \\\n",
       "26    3    1  4820    3   39  1109    3    8   1833    3  ...     1         7   \n",
       "31    1   25  3671    1   26  5743    1   13   3154    0  ...     1         2   \n",
       "57    1   27  3827    2   33  6293    1   22  12153    2  ...     1         1   \n",
       "\n",
       "    orientation  race  voted  married  familysize  ScoresDepr  ScoresAnx  \\\n",
       "26            1    60      2        1           3          38         41   \n",
       "31            1    60      2        1           3          30          8   \n",
       "57            1    60      1        1           2          13         15   \n",
       "\n",
       "    ScoresStre  \n",
       "26          41  \n",
       "31           7  \n",
       "57          20  \n",
       "\n",
       "[3 rows x 158 columns]"
      ]
     },
     "execution_count": 11,
     "metadata": {},
     "output_type": "execute_result"
    }
   ],
   "source": [
    "disorders = [depr, anx, stre]\n",
    "\n",
    "def scores(df): # adds new columns to store total scores for each        \n",
    "    df[\"ScoresDepr\"] = df[depr].sum(axis=1) \n",
    "    df[\"ScoresAnx\"] = df[anx].sum(axis=1)\n",
    "    df[\"ScoresStre\"] = df[stre].sum(axis=1)\n",
    "    return df\n",
    "\n",
    "for i in disorders:\n",
    "        df[i] -= 1 # to get the scores\n",
    "        \n",
    "df = scores(df)\n",
    "        \n",
    "df.head(3)"
   ]
  },
  {
   "cell_type": "code",
   "execution_count": 12,
   "id": "0a924cb6",
   "metadata": {},
   "outputs": [],
   "source": [
    "# ANXIETY MODEL FROM NOW #"
   ]
  },
  {
   "cell_type": "code",
   "execution_count": 13,
   "id": "7ce9afd4",
   "metadata": {},
   "outputs": [],
   "source": [
    "CategoryAnx=[]\n",
    "\n",
    "for i in df['ScoresAnx']:\n",
    "    if i in range(0,10):\n",
    "        CategoryAnx.append('None')\n",
    "    elif i in range(10,14):\n",
    "        CategoryAnx.append('Minimal')\n",
    "    elif i in range(14,21):\n",
    "        CategoryAnx.append('Moderate')\n",
    "    elif i in range(21,28):\n",
    "        CategoryAnx.append('Severe')\n",
    "    else:\n",
    "        CategoryAnx.append('Extremely Severe')\n",
    "        \n",
    "df['CategoryAnx']= CategoryAnx"
   ]
  },
  {
   "cell_type": "code",
   "execution_count": 14,
   "id": "8f838014",
   "metadata": {},
   "outputs": [
    {
     "data": {
      "text/plain": [
       "0"
      ]
     },
     "execution_count": 14,
     "metadata": {},
     "output_type": "execute_result"
    }
   ],
   "source": [
    "df.isnull().sum()\n",
    "df.duplicated().sum()"
   ]
  },
  {
   "cell_type": "code",
   "execution_count": 15,
   "id": "345a2ca6",
   "metadata": {},
   "outputs": [
    {
     "data": {
      "text/html": [
       "<div>\n",
       "<style scoped>\n",
       "    .dataframe tbody tr th:only-of-type {\n",
       "        vertical-align: middle;\n",
       "    }\n",
       "\n",
       "    .dataframe tbody tr th {\n",
       "        vertical-align: top;\n",
       "    }\n",
       "\n",
       "    .dataframe thead th {\n",
       "        text-align: right;\n",
       "    }\n",
       "</style>\n",
       "<table border=\"1\" class=\"dataframe\">\n",
       "  <thead>\n",
       "    <tr style=\"text-align: right;\">\n",
       "      <th></th>\n",
       "      <th>source</th>\n",
       "      <th>TIPI1</th>\n",
       "      <th>TIPI2</th>\n",
       "      <th>TIPI3</th>\n",
       "      <th>TIPI4</th>\n",
       "      <th>TIPI5</th>\n",
       "      <th>TIPI6</th>\n",
       "      <th>TIPI7</th>\n",
       "      <th>TIPI8</th>\n",
       "      <th>TIPI9</th>\n",
       "      <th>TIPI10</th>\n",
       "      <th>education</th>\n",
       "      <th>urban</th>\n",
       "      <th>gender</th>\n",
       "      <th>age</th>\n",
       "      <th>hand</th>\n",
       "      <th>religion</th>\n",
       "      <th>orientation</th>\n",
       "      <th>race</th>\n",
       "      <th>voted</th>\n",
       "      <th>married</th>\n",
       "      <th>familysize</th>\n",
       "      <th>ScoresAnx</th>\n",
       "    </tr>\n",
       "  </thead>\n",
       "  <tbody>\n",
       "    <tr>\n",
       "      <th>26</th>\n",
       "      <td>2</td>\n",
       "      <td>4</td>\n",
       "      <td>1</td>\n",
       "      <td>7</td>\n",
       "      <td>7</td>\n",
       "      <td>7</td>\n",
       "      <td>2</td>\n",
       "      <td>6</td>\n",
       "      <td>5</td>\n",
       "      <td>1</td>\n",
       "      <td>1</td>\n",
       "      <td>1</td>\n",
       "      <td>1</td>\n",
       "      <td>2</td>\n",
       "      <td>15</td>\n",
       "      <td>1</td>\n",
       "      <td>7</td>\n",
       "      <td>1</td>\n",
       "      <td>60</td>\n",
       "      <td>2</td>\n",
       "      <td>1</td>\n",
       "      <td>3</td>\n",
       "      <td>41</td>\n",
       "    </tr>\n",
       "    <tr>\n",
       "      <th>31</th>\n",
       "      <td>2</td>\n",
       "      <td>5</td>\n",
       "      <td>5</td>\n",
       "      <td>5</td>\n",
       "      <td>5</td>\n",
       "      <td>7</td>\n",
       "      <td>7</td>\n",
       "      <td>7</td>\n",
       "      <td>5</td>\n",
       "      <td>5</td>\n",
       "      <td>6</td>\n",
       "      <td>2</td>\n",
       "      <td>3</td>\n",
       "      <td>1</td>\n",
       "      <td>18</td>\n",
       "      <td>1</td>\n",
       "      <td>2</td>\n",
       "      <td>1</td>\n",
       "      <td>60</td>\n",
       "      <td>2</td>\n",
       "      <td>1</td>\n",
       "      <td>3</td>\n",
       "      <td>8</td>\n",
       "    </tr>\n",
       "    <tr>\n",
       "      <th>57</th>\n",
       "      <td>0</td>\n",
       "      <td>2</td>\n",
       "      <td>4</td>\n",
       "      <td>1</td>\n",
       "      <td>5</td>\n",
       "      <td>6</td>\n",
       "      <td>4</td>\n",
       "      <td>3</td>\n",
       "      <td>6</td>\n",
       "      <td>6</td>\n",
       "      <td>3</td>\n",
       "      <td>3</td>\n",
       "      <td>3</td>\n",
       "      <td>2</td>\n",
       "      <td>21</td>\n",
       "      <td>1</td>\n",
       "      <td>1</td>\n",
       "      <td>1</td>\n",
       "      <td>60</td>\n",
       "      <td>1</td>\n",
       "      <td>1</td>\n",
       "      <td>2</td>\n",
       "      <td>15</td>\n",
       "    </tr>\n",
       "    <tr>\n",
       "      <th>81</th>\n",
       "      <td>2</td>\n",
       "      <td>7</td>\n",
       "      <td>6</td>\n",
       "      <td>3</td>\n",
       "      <td>6</td>\n",
       "      <td>4</td>\n",
       "      <td>1</td>\n",
       "      <td>7</td>\n",
       "      <td>5</td>\n",
       "      <td>3</td>\n",
       "      <td>2</td>\n",
       "      <td>1</td>\n",
       "      <td>2</td>\n",
       "      <td>2</td>\n",
       "      <td>14</td>\n",
       "      <td>1</td>\n",
       "      <td>4</td>\n",
       "      <td>1</td>\n",
       "      <td>70</td>\n",
       "      <td>2</td>\n",
       "      <td>1</td>\n",
       "      <td>6</td>\n",
       "      <td>10</td>\n",
       "    </tr>\n",
       "    <tr>\n",
       "      <th>87</th>\n",
       "      <td>2</td>\n",
       "      <td>1</td>\n",
       "      <td>3</td>\n",
       "      <td>5</td>\n",
       "      <td>6</td>\n",
       "      <td>6</td>\n",
       "      <td>7</td>\n",
       "      <td>2</td>\n",
       "      <td>7</td>\n",
       "      <td>1</td>\n",
       "      <td>2</td>\n",
       "      <td>2</td>\n",
       "      <td>3</td>\n",
       "      <td>1</td>\n",
       "      <td>17</td>\n",
       "      <td>1</td>\n",
       "      <td>1</td>\n",
       "      <td>1</td>\n",
       "      <td>30</td>\n",
       "      <td>2</td>\n",
       "      <td>1</td>\n",
       "      <td>3</td>\n",
       "      <td>36</td>\n",
       "    </tr>\n",
       "  </tbody>\n",
       "</table>\n",
       "</div>"
      ],
      "text/plain": [
       "    source  TIPI1  TIPI2  TIPI3  TIPI4  TIPI5  TIPI6  TIPI7  TIPI8  TIPI9  \\\n",
       "26       2      4      1      7      7      7      2      6      5      1   \n",
       "31       2      5      5      5      5      7      7      7      5      5   \n",
       "57       0      2      4      1      5      6      4      3      6      6   \n",
       "81       2      7      6      3      6      4      1      7      5      3   \n",
       "87       2      1      3      5      6      6      7      2      7      1   \n",
       "\n",
       "    TIPI10  education  urban  gender  age  hand  religion  orientation  race  \\\n",
       "26       1          1      1       2   15     1         7            1    60   \n",
       "31       6          2      3       1   18     1         2            1    60   \n",
       "57       3          3      3       2   21     1         1            1    60   \n",
       "81       2          1      2       2   14     1         4            1    70   \n",
       "87       2          2      3       1   17     1         1            1    30   \n",
       "\n",
       "    voted  married  familysize  ScoresAnx  \n",
       "26      2        1           3         41  \n",
       "31      2        1           3          8  \n",
       "57      1        1           2         15  \n",
       "81      2        1           6         10  \n",
       "87      2        1           3         36  "
      ]
     },
     "execution_count": 15,
     "metadata": {},
     "output_type": "execute_result"
    }
   ],
   "source": [
    "Y = df['CategoryAnx']\n",
    "X = df.drop(columns=['Q2A','Q4A','Q7A','Q9A','Q15A','Q19A','Q20A','Q23A','Q25A','Q28A','Q30A','Q36A','Q40A','Q41A','introelapse','testelapse', 'surveyelapse','engnat','CategoryAnx','country', 'ScoresDepr' ,'ScoresStre','screensize','uniquenetworklocation','Q1A' ,'Q1I', 'Q1E', 'Q2I', 'Q2E', 'Q3A', 'Q3I', 'Q3E','Q4I','Q4E', 'Q5E', 'Q5A' ,'Q5I', 'Q6E', 'Q6A' ,'Q6I', 'Q7E' ,'Q7I', 'Q8E','Q8A' ,'Q8I', 'Q9E', 'Q9I', 'Q10E', 'Q10A', 'Q10I', 'Q11E', 'Q11A' ,'Q11I', 'Q12E', 'Q12A' ,'Q12I', 'Q13E', 'Q13A' ,'Q13I', 'Q14E', 'Q14A' ,'Q14I', 'Q15E', 'Q15I', 'Q16E', 'Q16A' ,'Q16I', 'Q17E', 'Q17A' ,'Q17I', 'Q18E', 'Q18A' ,'Q18I', 'Q19I', 'Q19E',  'Q20I', 'Q20E', 'Q21A', 'Q21I', 'Q21E', 'Q22A', 'Q22I','Q22E', 'Q23I','Q23E','Q24A','Q24I','Q24E', 'Q25I', 'Q25E', 'Q26A', 'Q26I', 'Q26E', 'Q27A', 'Q27I', 'Q27E', 'Q28I', 'Q28E', 'Q29A', 'Q29I', 'Q29E',  'Q30I', 'Q30E', 'Q31A', 'Q31I', 'Q31E', 'Q32A', 'Q32I', 'Q32E', 'Q33A', 'Q33I', 'Q33E', 'Q34A', 'Q34I', 'Q34E', 'Q35A', 'Q35I', 'Q35E', 'Q36I', 'Q36E', 'Q37A', 'Q37I', 'Q37E', 'Q38A', 'Q38I', 'Q38E', 'Q39A', 'Q39I', 'Q39E', 'Q40I', 'Q40E', 'Q41I', 'Q41E', 'Q42A', 'Q42I', 'Q42E'])\n",
    "pd.set_option(\"display.max_columns\", None)\n",
    "X.head()"
   ]
  },
  {
   "cell_type": "code",
   "execution_count": 16,
   "id": "b63b0b7c",
   "metadata": {},
   "outputs": [
    {
     "name": "stdout",
     "output_type": "stream",
     "text": [
      "[[ 1.01193533  0.11146893 -1.80112123 ... -0.41158476 -0.04026184\n",
      "   1.87354896]\n",
      " [ 1.01193533  0.59254537  0.33712817 ... -0.41158476 -0.04026184\n",
      "  -0.86024639]\n",
      " [-1.3982343  -0.85068395 -0.19743418 ... -0.41158476 -0.41603906\n",
      "  -0.28035041]\n",
      " ...\n",
      " [-1.3982343  -0.85068395 -0.73199653 ... -2.34805733  1.46284701\n",
      "  -1.44014238]\n",
      " [-0.19314948 -1.33176039 -1.80112123 ...  3.46136038 -0.04026184\n",
      "   0.63091471]\n",
      " [ 1.01193533 -0.36960751 -0.19743418 ... -0.41158476  0.71129258\n",
      "   1.62502211]]\n"
     ]
    }
   ],
   "source": [
    "#Pre-processing the data\n",
    "from sklearn.preprocessing import StandardScaler \n",
    "\n",
    "scaler = StandardScaler()\n",
    "scaler.fit(X)\n",
    "X = scaler.transform(X)\n",
    "print(X)"
   ]
  },
  {
   "cell_type": "code",
   "execution_count": 17,
   "id": "3111d346",
   "metadata": {},
   "outputs": [
    {
     "name": "stdout",
     "output_type": "stream",
     "text": [
      "Accuracy of KNN Model - Anxiety: 0.66202\n",
      "Confusion Matrix of KNN Model - Anxiety: \n",
      " [[66  0  0  1  7]\n",
      " [ 1  0  6 16  3]\n",
      " [10  0 12 15 16]\n",
      " [ 1  0  4 97  4]\n",
      " [ 8  0  3  2 15]]\n"
     ]
    },
    {
     "name": "stderr",
     "output_type": "stream",
     "text": [
      "C:\\Users\\Dell\\anaconda3\\lib\\site-packages\\sklearn\\neighbors\\_classification.py:228: FutureWarning: Unlike other reduction functions (e.g. `skew`, `kurtosis`), the default behavior of `mode` typically preserves the axis it acts along. In SciPy 1.11.0, this behavior will change: the default value of `keepdims` will become False, the `axis` over which the statistic is taken will be eliminated, and the value None will no longer be accepted. Set `keepdims` to True or False to avoid this warning.\n",
      "  mode, _ = stats.mode(_y[neigh_ind, k], axis=1)\n"
     ]
    }
   ],
   "source": [
    "# KNN Model for Anxiety Classification\n",
    "from sklearn.neighbors import KNeighborsClassifier\n",
    "from sklearn.model_selection import train_test_split\n",
    "from sklearn.metrics import accuracy_score\n",
    "from sklearn.metrics import confusion_matrix\n",
    "from sklearn.metrics import classification_report\n",
    "\n",
    "# Split the data into training and testing sets\n",
    "X_train, X_test, Y_train, Y_test = train_test_split(X, Y, test_size=0.25, random_state=85)\n",
    "\n",
    "# Create a KNN classifier with k (number of neighbors)\n",
    "knn = KNeighborsClassifier(n_neighbors=95)\n",
    "\n",
    "# Fit the model to the training data\n",
    "knn.fit(X_train, Y_train)\n",
    "\n",
    "# Predict the classes of the testing set\n",
    "Y_pred = knn.predict(X_test)\n",
    "\n",
    "# Calculate the accuracy score of the model\n",
    "accuracy = accuracy_score(Y_test, Y_pred)\n",
    "conf_matrix = confusion_matrix(Y_test, Y_pred)\n",
    "classif_report = classification_report(Y_test, Y_pred)\n",
    "\n",
    "print('Accuracy of KNN Model - Anxiety: {:.5f}'.format(accuracy))\n",
    "print('Confusion Matrix of KNN Model - Anxiety: \\n', conf_matrix)\n",
    "print('Classification Report of KNN Model - Anxiety: \\n', classif_report)"
   ]
  },
  {
   "cell_type": "code",
   "execution_count": 18,
   "id": "2feba913",
   "metadata": {
    "scrolled": true
   },
   "outputs": [
    {
     "name": "stdout",
     "output_type": "stream",
     "text": [
      "Accuracy of NB Model - Anxiety: 0.96864\n",
      "Confusion Matrix of NB Model - Anxiety: \n",
      " [[ 73   0   0   0   1]\n",
      " [  0  24   0   2   0]\n",
      " [  0   1  50   1   1]\n",
      " [  1   1   0 104   0]\n",
      " [  1   0   0   0  27]]\n"
     ]
    }
   ],
   "source": [
    "# Naive Bayes Model for Anxiety Classification\n",
    "from sklearn.naive_bayes import GaussianNB\n",
    "from sklearn.model_selection import train_test_split\n",
    "from sklearn.metrics import accuracy_score\n",
    "from sklearn.metrics import confusion_matrix\n",
    "from sklearn.metrics import classification_report\n",
    "\n",
    "\n",
    "X_train, X_test, Y_train, Y_test = train_test_split(X, Y, test_size=0.25, random_state=85)\n",
    "\n",
    "clfNB = GaussianNB()\n",
    "\n",
    "# Fit the model to the training data\n",
    "clfNB.fit(X_train, Y_train)\n",
    "\n",
    "# Predict the classes of the testing set\n",
    "Y_pred = clfNB.predict(X_test)\n",
    "\n",
    "# Calculate the accuracy score of the model\n",
    "accuracy = accuracy_score(Y_test, Y_pred)\n",
    "conf_matrix = confusion_matrix(Y_test, Y_pred)\n",
    "classif_report = classification_report(Y_test, Y_pred)\n",
    "\n",
    "print('Accuracy of NB Model - Anxiety: {:.5f}'.format(accuracy))\n",
    "print('Confusion Matrix of NB Model - Anxiety: \\n', conf_matrix)\n",
    "print('Classification Report of KNN Model - Anxiety: \\n', classif_report)"
   ]
  },
  {
   "cell_type": "code",
   "execution_count": 19,
   "id": "b900aa76",
   "metadata": {},
   "outputs": [
    {
     "name": "stdout",
     "output_type": "stream",
     "text": [
      "Accuracy of RFC Model - Anxiety: 0.98955\n",
      "Confusion Matrix of RFC Model - Anxiety: \n",
      " [[ 74   0   0   0   0]\n",
      " [  0  23   3   0   0]\n",
      " [  0   0  53   0   0]\n",
      " [  0   0   0 106   0]\n",
      " [  0   0   0   0  28]]\n"
     ]
    }
   ],
   "source": [
    "# Random Forest Classifier Model for Anxiety Classification\n",
    "from sklearn.ensemble import RandomForestClassifier\n",
    "from sklearn.model_selection import train_test_split\n",
    "from sklearn.metrics import accuracy_score\n",
    "from sklearn.metrics import confusion_matrix\n",
    "\n",
    "X_train, X_test, Y_train, Y_test = train_test_split(X, Y, test_size=0.25, random_state=85)\n",
    "\n",
    "clfRFC = RandomForestClassifier(n_estimators=95, random_state=85)\n",
    "\n",
    "# Fit the model to the training data\n",
    "clfRFC.fit(X_train, Y_train)\n",
    "\n",
    "# Predict the classes of the testing set\n",
    "Y_pred = clfRFC.predict(X_test)\n",
    "\n",
    "# Calculate the accuracy score of the model\n",
    "accuracy = accuracy_score(Y_test, Y_pred)\n",
    "conf_matrix = confusion_matrix(Y_test, Y_pred)\n",
    "classif_report = classification_report(Y_test, Y_pred)\n",
    "\n",
    "\n",
    "print('Accuracy of RFC Model - Anxiety: {:.5f}'.format(accuracy))\n",
    "print('Confusion Matrix of RFC Model - Anxiety: \\n', conf_matrix)\n",
    "print('Classification report of KNN Model - Anxiety: \\n', classif_report)"
   ]
  },
  {
   "cell_type": "code",
   "execution_count": null,
   "id": "bfb55a57",
   "metadata": {},
   "outputs": [],
   "source": [
    "# DEPRESSION MODEL FROM NOW #"
   ]
  },
  {
   "cell_type": "code",
   "execution_count": null,
   "id": "d1bd2982",
   "metadata": {},
   "outputs": [],
   "source": [
    "CategoryDepr=[]\n",
    "\n",
    "for i in df['ScoresDepr']:\n",
    "    if i in range(0,10):\n",
    "        CategoryDepr.append('None')\n",
    "    elif i in range(10,14):\n",
    "        CategoryDepr.append('Minimal')\n",
    "    elif i in range(14,21):\n",
    "        CategoryDepr.append('Moderate')\n",
    "    elif i in range(21,28):\n",
    "        CategoryDepr.append('Severe')\n",
    "    else:\n",
    "        CategoryDepr.append('Extremely Severe')\n",
    "        \n",
    "df['CategoryDepr']= CategoryDepr"
   ]
  },
  {
   "cell_type": "code",
   "execution_count": null,
   "id": "0d889827",
   "metadata": {},
   "outputs": [],
   "source": [
    "df.isnull().sum()\n",
    "df.duplicated().sum()"
   ]
  },
  {
   "cell_type": "code",
   "execution_count": null,
   "id": "b903b639",
   "metadata": {},
   "outputs": [],
   "source": [
    "Y = df['CategoryDepr']\n",
    "X = df.drop(columns=['Q2A','Q4A','Q7A','Q9A','Q15A','Q19A','Q20A','Q23A','Q25A','Q28A','Q30A','Q36A','Q40A','Q41A','introelapse','testelapse', 'surveyelapse','engnat','CategoryDepr','country', 'ScoresDepr' ,'ScoresStre','screensize','uniquenetworklocation','Q1A' ,'Q1I', 'Q1E', 'Q2I', 'Q2E', 'Q3A', 'Q3I', 'Q3E','Q4I','Q4E', 'Q5E', 'Q5A' ,'Q5I', 'Q6E', 'Q6A' ,'Q6I', 'Q7E' ,'Q7I', 'Q8E','Q8A' ,'Q8I', 'Q9E', 'Q9I', 'Q10E', 'Q10A', 'Q10I', 'Q11E', 'Q11A' ,'Q11I', 'Q12E', 'Q12A' ,'Q12I', 'Q13E', 'Q13A' ,'Q13I', 'Q14E', 'Q14A' ,'Q14I', 'Q15E', 'Q15I', 'Q16E', 'Q16A' ,'Q16I', 'Q17E', 'Q17A' ,'Q17I', 'Q18E', 'Q18A' ,'Q18I', 'Q19I', 'Q19E',  'Q20I', 'Q20E', 'Q21A', 'Q21I', 'Q21E', 'Q22A', 'Q22I','Q22E', 'Q23I','Q23E','Q24A','Q24I','Q24E', 'Q25I', 'Q25E', 'Q26A', 'Q26I', 'Q26E', 'Q27A', 'Q27I', 'Q27E', 'Q28I', 'Q28E', 'Q29A', 'Q29I', 'Q29E',  'Q30I', 'Q30E', 'Q31A', 'Q31I', 'Q31E', 'Q32A', 'Q32I', 'Q32E', 'Q33A', 'Q33I', 'Q33E', 'Q34A', 'Q34I', 'Q34E', 'Q35A', 'Q35I', 'Q35E', 'Q36I', 'Q36E', 'Q37A', 'Q37I', 'Q37E', 'Q38A', 'Q38I', 'Q38E', 'Q39A', 'Q39I', 'Q39E', 'Q40I', 'Q40E', 'Q41I', 'Q41E', 'Q42A', 'Q42I', 'Q42E'])\n",
    "pd.set_option(\"display.max_columns\", None)\n",
    "X.head()"
   ]
  },
  {
   "cell_type": "code",
   "execution_count": null,
   "id": "7e7cf216",
   "metadata": {},
   "outputs": [],
   "source": [
    "#Pre-processing the data\n",
    "from sklearn.preprocessing import StandardScaler \n",
    "\n",
    "scaler = StandardScaler()\n",
    "scaler.fit(X)\n",
    "X = scaler.transform(X)\n",
    "print(X)"
   ]
  },
  {
   "cell_type": "code",
   "execution_count": null,
   "id": "2bf233b3",
   "metadata": {},
   "outputs": [],
   "source": [
    "# KNN Model for Depression Classification\n",
    "from sklearn.neighbors import KNeighborsClassifier\n",
    "from sklearn.model_selection import train_test_split\n",
    "from sklearn.metrics import accuracy_score\n",
    "from sklearn.metrics import confusion_matrix\n",
    "from sklearn.metrics import classification_report\n",
    "\n",
    "# Split the data into training and testing sets\n",
    "X_train, X_test, Y_train, Y_test = train_test_split(X, Y, test_size=0.25, random_state=85)\n",
    "\n",
    "# Create a KNN classifier with k (number of neighbors)\n",
    "knn = KNeighborsClassifier(n_neighbors=95)\n",
    "\n",
    "# Fit the model to the training data\n",
    "knn.fit(X_train, Y_train)\n",
    "\n",
    "# Predict the classes of the testing set\n",
    "Y_pred = knn.predict(X_test)\n",
    "\n",
    "# Calculate the accuracy score of the model\n",
    "accuracy = accuracy_score(Y_test, Y_pred)\n",
    "conf_matrix = confusion_matrix(Y_test, Y_pred)\n",
    "classif_report = classification_report(Y_test, Y_pred)\n",
    "\n",
    "print('Accuracy of KNN Model - Depression: {:.5f}'.format(accuracy))\n",
    "print('Confusion Matrix of KNN Model - Depression: \\n', conf_matrix)\n",
    "print('Confusion Matrix of KNN Model - Depression: \\n', classif_report)"
   ]
  },
  {
   "cell_type": "code",
   "execution_count": null,
   "id": "d99a3175",
   "metadata": {},
   "outputs": [],
   "source": [
    "# Naive Bayes Model for Depression Classification\n",
    "from sklearn.naive_bayes import GaussianNB\n",
    "from sklearn.model_selection import train_test_split\n",
    "from sklearn.metrics import accuracy_score\n",
    "from sklearn.metrics import confusion_matrix\n",
    "from sklearn.metrics import classification_report\n",
    "\n",
    "\n",
    "X_train, X_test, Y_train, Y_test = train_test_split(X, Y, test_size=0.25, random_state=85)\n",
    "\n",
    "clfNB = GaussianNB()\n",
    "\n",
    "# Fit the model to the training data\n",
    "clfNB.fit(X_train, Y_train)\n",
    "\n",
    "# Predict the classes of the testing set\n",
    "Y_pred = clfNB.predict(X_test)\n",
    "\n",
    "# Calculate the accuracy score of the model\n",
    "accuracy = accuracy_score(Y_test, Y_pred)\n",
    "conf_matrix = confusion_matrix(Y_test, Y_pred)\n",
    "classif_report = classification_report(Y_test, Y_pred)\n",
    "\n",
    "print('Accuracy of NB Model - Depression: {:.5f}'.format(accuracy))\n",
    "print('Confusion Matrix of NB Model - Depression: \\n', conf_matrix)\n",
    "print('Classification Report of KNN Model - Depression: \\n', classif_report)"
   ]
  },
  {
   "cell_type": "code",
   "execution_count": null,
   "id": "8578e285",
   "metadata": {},
   "outputs": [],
   "source": [
    "# Random Forest Classifier Model for Depression Classification\n",
    "from sklearn.ensemble import RandomForestClassifier\n",
    "from sklearn.model_selection import train_test_split\n",
    "from sklearn.metrics import accuracy_score\n",
    "from sklearn.metrics import confusion_matrix\n",
    "\n",
    "X_train, X_test, Y_train, Y_test = train_test_split(X, Y, test_size=0.25, random_state=85)\n",
    "\n",
    "clfRFC = RandomForestClassifier(n_estimators=95, random_state=85)\n",
    "\n",
    "# Fit the model to the training data\n",
    "clfRFC.fit(X_train, Y_train)\n",
    "\n",
    "# Predict the classes of the testing set\n",
    "Y_pred = clfRFC.predict(X_test)\n",
    "\n",
    "# Calculate the accuracy score of the model\n",
    "accuracy = accuracy_score(Y_test, Y_pred)\n",
    "conf_matrix = confusion_matrix(Y_test, Y_pred)\n",
    "classif_report = classification_report(Y_test, Y_pred)\n",
    "\n",
    "\n",
    "print('Accuracy of RFC Model - Depression: {:.5f}'.format(accuracy))\n",
    "print('Confusion Matrix of RFC Model - Depression: \\n', conf_matrix)\n",
    "print('Classification report of KNN Model - Depression: \\n', classif_report)"
   ]
  },
  {
   "cell_type": "code",
   "execution_count": null,
   "id": "c76fb887",
   "metadata": {},
   "outputs": [],
   "source": [
    "# STRESS MODEL FROM NOW #"
   ]
  },
  {
   "cell_type": "code",
   "execution_count": null,
   "id": "7fa55f0e",
   "metadata": {},
   "outputs": [],
   "source": [
    "CategoryStre=[]\n",
    "\n",
    "for i in df['ScoresStre']:\n",
    "    if i in range(0,10):\n",
    "        CategoryStre.append('None')\n",
    "    elif i in range(10,14):\n",
    "        CategoryStre.append('Minimal')\n",
    "    elif i in range(14,21):\n",
    "        CategoryStre.append('Moderate')\n",
    "    elif i in range(21,28):\n",
    "        CategoryStre.append('Severe')\n",
    "    else:\n",
    "        CategoryStre.append('Extremely Severe')\n",
    "        \n",
    "df['CategoryStre']= CategoryStre"
   ]
  },
  {
   "cell_type": "code",
   "execution_count": null,
   "id": "52669230",
   "metadata": {},
   "outputs": [],
   "source": [
    "df.isnull().sum()\n",
    "df.duplicated().sum()"
   ]
  },
  {
   "cell_type": "code",
   "execution_count": null,
   "id": "79d1671b",
   "metadata": {},
   "outputs": [],
   "source": [
    "Y = df['CategoryStre']\n",
    "X = df.drop(columns=['Q2A','Q4A','Q7A','Q9A','Q15A','Q19A','Q20A','Q23A','Q25A','Q28A','Q30A','Q36A','Q40A','Q41A','introelapse','testelapse', 'surveyelapse','engnat','CategoryStre','country', 'ScoresDepr' ,'ScoresStre','screensize','uniquenetworklocation','Q1A' ,'Q1I', 'Q1E', 'Q2I', 'Q2E', 'Q3A', 'Q3I', 'Q3E','Q4I','Q4E', 'Q5E', 'Q5A' ,'Q5I', 'Q6E', 'Q6A' ,'Q6I', 'Q7E' ,'Q7I', 'Q8E','Q8A' ,'Q8I', 'Q9E', 'Q9I', 'Q10E', 'Q10A', 'Q10I', 'Q11E', 'Q11A' ,'Q11I', 'Q12E', 'Q12A' ,'Q12I', 'Q13E', 'Q13A' ,'Q13I', 'Q14E', 'Q14A' ,'Q14I', 'Q15E', 'Q15I', 'Q16E', 'Q16A' ,'Q16I', 'Q17E', 'Q17A' ,'Q17I', 'Q18E', 'Q18A' ,'Q18I', 'Q19I', 'Q19E',  'Q20I', 'Q20E', 'Q21A', 'Q21I', 'Q21E', 'Q22A', 'Q22I','Q22E', 'Q23I','Q23E','Q24A','Q24I','Q24E', 'Q25I', 'Q25E', 'Q26A', 'Q26I', 'Q26E', 'Q27A', 'Q27I', 'Q27E', 'Q28I', 'Q28E', 'Q29A', 'Q29I', 'Q29E',  'Q30I', 'Q30E', 'Q31A', 'Q31I', 'Q31E', 'Q32A', 'Q32I', 'Q32E', 'Q33A', 'Q33I', 'Q33E', 'Q34A', 'Q34I', 'Q34E', 'Q35A', 'Q35I', 'Q35E', 'Q36I', 'Q36E', 'Q37A', 'Q37I', 'Q37E', 'Q38A', 'Q38I', 'Q38E', 'Q39A', 'Q39I', 'Q39E', 'Q40I', 'Q40E', 'Q41I', 'Q41E', 'Q42A', 'Q42I', 'Q42E'])\n",
    "pd.set_option(\"display.max_columns\", None)\n",
    "X.head()"
   ]
  },
  {
   "cell_type": "code",
   "execution_count": null,
   "id": "14ce869a",
   "metadata": {},
   "outputs": [],
   "source": [
    "#Pre-processing the data\n",
    "from sklearn.preprocessing import StandardScaler \n",
    "\n",
    "scaler = StandardScaler()\n",
    "scaler.fit(X)\n",
    "X = scaler.transform(X)\n",
    "print(X)"
   ]
  },
  {
   "cell_type": "code",
   "execution_count": null,
   "id": "667a8d11",
   "metadata": {},
   "outputs": [],
   "source": [
    "# KNN Model for Stress Classification\n",
    "from sklearn.neighbors import KNeighborsClassifier\n",
    "from sklearn.model_selection import train_test_split\n",
    "from sklearn.metrics import accuracy_score\n",
    "from sklearn.metrics import confusion_matrix\n",
    "from sklearn.metrics import classification_report\n",
    "\n",
    "# Split the data into training and testing sets\n",
    "X_train, X_test, Y_train, Y_test = train_test_split(X, Y, test_size=0.25, random_state=85)\n",
    "\n",
    "# Create a KNN classifier with k (number of neighbors)\n",
    "knn = KNeighborsClassifier(n_neighbors=95)\n",
    "\n",
    "# Fit the model to the training data\n",
    "knn.fit(X_train, Y_train)\n",
    "\n",
    "# Predict the classes of the testing set\n",
    "Y_pred = knn.predict(X_test)\n",
    "\n",
    "# Calculate the accuracy score of the model\n",
    "accuracy = accuracy_score(Y_test, Y_pred)\n",
    "conf_matrix = confusion_matrix(Y_test, Y_pred)\n",
    "classif_report = classification_report(Y_test, Y_pred)\n",
    "\n",
    "print('Accuracy of KNN Model - Stress: {:.5f}'.format(accuracy))\n",
    "print('Confusion Matrix of KNN Model - Stress: \\n', conf_matrix)\n",
    "print('Confusion Matrix of KNN Model - Stress: \\n', classif_report)"
   ]
  },
  {
   "cell_type": "code",
   "execution_count": null,
   "id": "07e91cc9",
   "metadata": {},
   "outputs": [],
   "source": [
    "# Naive Bayes Model for Stress Classification\n",
    "from sklearn.naive_bayes import GaussianNB\n",
    "from sklearn.model_selection import train_test_split\n",
    "from sklearn.metrics import accuracy_score\n",
    "from sklearn.metrics import confusion_matrix\n",
    "from sklearn.metrics import classification_report\n",
    "\n",
    "\n",
    "X_train, X_test, Y_train, Y_test = train_test_split(X, Y, test_size=0.25, random_state=85)\n",
    "\n",
    "clfNB = GaussianNB()\n",
    "\n",
    "# Fit the model to the training data\n",
    "clfNB.fit(X_train, Y_train)\n",
    "\n",
    "# Predict the classes of the testing set\n",
    "Y_pred = clfNB.predict(X_test)\n",
    "\n",
    "# Calculate the accuracy score of the model\n",
    "accuracy = accuracy_score(Y_test, Y_pred)\n",
    "conf_matrix = confusion_matrix(Y_test, Y_pred)\n",
    "classif_report = classification_report(Y_test, Y_pred)\n",
    "\n",
    "print('Accuracy of NB Model - Stress: {:.5f}'.format(accuracy))\n",
    "print('Confusion Matrix of NB Model - Stress: \\n', conf_matrix)\n",
    "print('Classification Report of KNN Model - Stress: \\n', classif_report)"
   ]
  },
  {
   "cell_type": "code",
   "execution_count": null,
   "id": "94933527",
   "metadata": {},
   "outputs": [],
   "source": [
    "# Random Forest Classifier Model for Stress Classification\n",
    "from sklearn.ensemble import RandomForestClassifier\n",
    "from sklearn.model_selection import train_test_split\n",
    "from sklearn.metrics import accuracy_score\n",
    "from sklearn.metrics import confusion_matrix\n",
    "\n",
    "X_train, X_test, Y_train, Y_test = train_test_split(X, Y, test_size=0.25, random_state=85)\n",
    "\n",
    "clfRFC = RandomForestClassifier(n_estimators=95, random_state=85)\n",
    "\n",
    "# Fit the model to the training data\n",
    "clfRFC.fit(X_train, Y_train)\n",
    "\n",
    "# Predict the classes of the testing set\n",
    "Y_pred = clfRFC.predict(X_test)\n",
    "\n",
    "# Calculate the accuracy score of the model\n",
    "accuracy = accuracy_score(Y_test, Y_pred)\n",
    "conf_matrix = confusion_matrix(Y_test, Y_pred)\n",
    "classif_report = classification_report(Y_test, Y_pred)\n",
    "\n",
    "\n",
    "print('Accuracy of RFC Model - Stress: {:.5f}'.format(accuracy))\n",
    "print('Confusion Matrix of RFC Model - Stress: \\n', conf_matrix)\n",
    "print('Classification report of KNN Model - Stress: \\n', classif_report)"
   ]
  }
 ],
 "metadata": {
  "kernelspec": {
   "display_name": "Python 3 (ipykernel)",
   "language": "python",
   "name": "python3"
  },
  "language_info": {
   "codemirror_mode": {
    "name": "ipython",
    "version": 3
   },
   "file_extension": ".py",
   "mimetype": "text/x-python",
   "name": "python",
   "nbconvert_exporter": "python",
   "pygments_lexer": "ipython3",
   "version": "3.11.2"
  }
 },
 "nbformat": 4,
 "nbformat_minor": 5
}
